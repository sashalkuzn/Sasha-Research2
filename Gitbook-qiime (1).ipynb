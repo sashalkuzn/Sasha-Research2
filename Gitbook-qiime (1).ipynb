{
 "cells": [
  {
   "cell_type": "code",
   "execution_count": 1,
   "metadata": {
    "collapsed": true
   },
   "outputs": [],
   "source": [
    "import qiime"
   ]
  },
  {
   "cell_type": "code",
   "execution_count": 2,
   "metadata": {
    "collapsed": false
   },
   "outputs": [
    {
     "name": "stdout",
     "output_type": "stream",
     "text": [
      "--2017-06-23 05:17:02--  https://www.dropbox.com/s/d9o6ss704mg9x4h/Qiime_Introduction_Tutorial.zip?dl=0\n",
      "Resolving www.dropbox.com (www.dropbox.com)... 162.125.6.1\n",
      "Connecting to www.dropbox.com (www.dropbox.com)|162.125.6.1|:443... connected.\n",
      "HTTP request sent, awaiting response... 302 Found\n",
      "Location: https://dl.dropboxusercontent.com/content_link/SCvFwP2gMGIDfppGwboZWLkRHdWqE6LvUWUc4kgB1zmw0YKDN1iBQAp8lYVxcwf8/file [following]\n",
      "--2017-06-23 05:17:03--  https://dl.dropboxusercontent.com/content_link/SCvFwP2gMGIDfppGwboZWLkRHdWqE6LvUWUc4kgB1zmw0YKDN1iBQAp8lYVxcwf8/file\n",
      "Resolving dl.dropboxusercontent.com (dl.dropboxusercontent.com)... 162.125.16.6\n",
      "Connecting to dl.dropboxusercontent.com (dl.dropboxusercontent.com)|162.125.16.6|:443... connected.\n",
      "HTTP request sent, awaiting response... 200 OK\n",
      "Length: 4832393 (4.6M) [application/zip]\n",
      "Saving to: ‘Qiime_Introduction_Tutorial.zip?dl=0’\n",
      "\n",
      "Qiime_Introduction_ 100%[=====================>]   4.61M  --.-KB/s   in 0.07s  \n",
      "\n",
      "2017-06-23 05:17:04 (63.2 MB/s) - ‘Qiime_Introduction_Tutorial.zip?dl=0’ saved [4832393/4832393]\n",
      "\n"
     ]
    }
   ],
   "source": [
    "!wget https://www.dropbox.com/s/d9o6ss704mg9x4h/Qiime_Introduction_Tutorial.zip?dl=0#"
   ]
  },
  {
   "cell_type": "code",
   "execution_count": 3,
   "metadata": {
    "collapsed": false
   },
   "outputs": [
    {
     "name": "stdout",
     "output_type": "stream",
     "text": [
      "Archive:  Qiime_Introduction_Tutorial.zip?dl=0\n",
      "   creating: Qiime_Introduction_Tutorial/\n",
      "  inflating: Qiime_Introduction_Tutorial/.DS_Store  \n",
      "   creating: __MACOSX/\n",
      "   creating: __MACOSX/Qiime_Introduction_Tutorial/\n",
      "  inflating: __MACOSX/Qiime_Introduction_Tutorial/._.DS_Store  \n",
      "  inflating: Qiime_Introduction_Tutorial/16s_pickotu_param.txt  \n",
      "  inflating: __MACOSX/Qiime_Introduction_Tutorial/._16s_pickotu_param.txt  \n",
      "  inflating: Qiime_Introduction_Tutorial/mapping_file.txt  \n",
      "  inflating: __MACOSX/Qiime_Introduction_Tutorial/._mapping_file.txt  \n",
      "  inflating: Qiime_Introduction_Tutorial/otu_table.biom  \n",
      "  inflating: Qiime_Introduction_Tutorial/qiime_processing_workflow_local.sh  \n",
      "  inflating: __MACOSX/Qiime_Introduction_Tutorial/._qiime_processing_workflow_local.sh  \n",
      "  inflating: Qiime_Introduction_Tutorial/rep_set.fna  \n",
      "  inflating: Qiime_Introduction_Tutorial/rep_set.tre  \n",
      "   creating: Qiime_Introduction_Tutorial/split_libraries/\n",
      "  inflating: Qiime_Introduction_Tutorial/split_libraries/.DS_Store  \n",
      "   creating: __MACOSX/Qiime_Introduction_Tutorial/split_libraries/\n",
      "  inflating: __MACOSX/Qiime_Introduction_Tutorial/split_libraries/._.DS_Store  \n",
      "  inflating: Qiime_Introduction_Tutorial/split_libraries/histograms.txt  \n",
      "  inflating: Qiime_Introduction_Tutorial/split_libraries/README.txt  \n",
      "  inflating: __MACOSX/Qiime_Introduction_Tutorial/split_libraries/._README.txt  \n",
      "  inflating: Qiime_Introduction_Tutorial/split_libraries/seqs.fna  \n",
      "  inflating: Qiime_Introduction_Tutorial/split_libraries/split_library_log.txt  \n"
     ]
    }
   ],
   "source": [
    "!unzip Qiime_Introduction_Tutorial.zip\\?dl\\=0"
   ]
  },
  {
   "cell_type": "code",
   "execution_count": 8,
   "metadata": {
    "collapsed": true
   },
   "outputs": [],
   "source": [
    "import os"
   ]
  },
  {
   "cell_type": "code",
   "execution_count": 9,
   "metadata": {
    "collapsed": false
   },
   "outputs": [],
   "source": [
    "os.chdir('Qiime_Introduction_Tutorial/')"
   ]
  },
  {
   "cell_type": "code",
   "execution_count": 10,
   "metadata": {
    "collapsed": false
   },
   "outputs": [
    {
     "name": "stdout",
     "output_type": "stream",
     "text": [
      "16s_pickotu_param.txt  qiime_processing_workflow_local.sh  \u001b[0m\u001b[01;34msplit_libraries\u001b[0m/\r\n",
      "mapping_file.txt       rep_set.fna\r\n",
      "otu_table.biom         rep_set.tre\r\n"
     ]
    }
   ],
   "source": [
    "ls"
   ]
  },
  {
   "cell_type": "code",
   "execution_count": 11,
   "metadata": {
    "collapsed": false
   },
   "outputs": [
    {
     "name": "stdout",
     "output_type": "stream",
     "text": [
      "qiime_processing_workflow_local.sh: 16: qiime_processing_workflow_local.sh: macqiime: not found\n",
      "Error in pick_open_reference_otus.py: Output directory already exists. Please choose a different directory, or force overwrite with -f.\n",
      "\n",
      "If you need help with QIIME, see:\n",
      "http://help.qiime.org\n",
      "Picking open-reference otu's...completed.\n",
      "Error in parallel_identify_chimeric_seqs.py: option -i: file does not exist: 'pick_otus/pynast_aligned_seqs/rep_set_aligned.fasta'\n",
      "\n",
      "If you need help with QIIME, see:\n",
      "http://help.qiime.org\n",
      "Identifying chimeric sequences...completed.\n",
      "Error in filter_fasta.py: option -f: file does not exist: 'pick_otus/pynast_aligned_seqs/rep_set_aligned.fasta'\n",
      "\n",
      "If you need help with QIIME, see:\n",
      "http://help.qiime.org\n",
      "Filtering fasta sequences...completed.\n",
      "Error in filter_alignment.py: option -i: file does not exist: 'pick_otus/chimeraslayer/rep_set_aligned_chimerafree.fasta'\n",
      "\n",
      "If you need help with QIIME, see:\n",
      "http://help.qiime.org\n",
      "Filtering alignment...completed.\n",
      "Error in make_phylogeny.py: option -i: file does not exist: 'pick_otus/chimeraslayer/rep_set_aligned_chimerafree_pfiltered.fasta'\n",
      "\n",
      "If you need help with QIIME, see:\n",
      "http://help.qiime.org\n",
      "Making phylogenetic tree...completed.\n",
      "Error in make_otu_table.py: option -i: file does not exist: 'pick_otus/final_otu_map_mc2.txt'\n",
      "\n",
      "If you need help with QIIME, see:\n",
      "http://help.qiime.org\n",
      "Making OTU table...completed.\n",
      "cp: cannot stat ‘pick_otus/chimeraslayer/otu_table_rdp_nochimera.biom’: No such file or directory\n",
      "cp: cannot stat ‘pick_otus/chimeraslayer/rep_set_chimerafree.tre’: No such file or directory\n",
      "cp: cannot stat ‘pick_otus/chimeraslayer/rep_set_aligned_chimerafree.fasta’: No such file or directory\n",
      "Usage: biom summarize-table [OPTIONS]\n",
      "\n",
      "Error: Invalid value for \"-i\" / \"--input-fp\": Path \"results/otu_table_rdp_nochimera.biom\" does not exist.\n"
     ]
    }
   ],
   "source": [
    "!sh qiime_processing_workflow_local.sh"
   ]
  },
  {
   "cell_type": "code",
   "execution_count": null,
   "metadata": {
    "collapsed": true
   },
   "outputs": [],
   "source": []
  }
 ],
 "metadata": {
  "kernelspec": {
   "display_name": "Python 2",
   "language": "python",
   "name": "python2"
  },
  "language_info": {
   "codemirror_mode": {
    "name": "ipython",
    "version": 2
   },
   "file_extension": ".py",
   "mimetype": "text/x-python",
   "name": "python",
   "nbconvert_exporter": "python",
   "pygments_lexer": "ipython2",
   "version": "2.7.12"
  }
 },
 "nbformat": 4,
 "nbformat_minor": 0
}
