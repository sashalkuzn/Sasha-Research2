{
 "cells": [
  {
   "cell_type": "markdown",
   "metadata": {},
   "source": [
    "# IMPORTANT: Unlike qiime1, qiim2 uses [view.qiime2.org](https://view.qiime2.org) to visualize the graphics and tables"
   ]
  },
  {
   "cell_type": "markdown",
   "metadata": {},
   "source": [
    "### Userful resources for Qiime 2:\n",
    "- a) http://caporasolab.us/teaching/courses/2017.01-450/homework_assignments.html\n",
    "- b) https://docs.qiime2.org/2017.8/tutorials/"
   ]
  },
  {
   "cell_type": "markdown",
   "metadata": {},
   "source": [
    "# Step 1: Downloading the data"
   ]
  },
  {
   "cell_type": "code",
   "execution_count": 1,
   "metadata": {
    "collapsed": true
   },
   "outputs": [],
   "source": [
    "!curl -sL \"https://data.qiime2.org/2017.8/tutorials/moving-pictures/sample_metadata.tsv\" > \"sample-metadata.tsv\""
   ]
  },
  {
   "cell_type": "code",
   "execution_count": 3,
   "metadata": {
    "collapsed": true
   },
   "outputs": [],
   "source": [
    "import os "
   ]
  },
  {
   "cell_type": "code",
   "execution_count": 4,
   "metadata": {},
   "outputs": [
    {
     "name": "stdout",
     "output_type": "stream",
     "text": [
      "newqiime.ipynb  \u001b[0m\u001b[01;34mqiime_overview_tutorial\u001b[0m/     sample-metadata.tsv\r\n",
      "oldqiime.ipynb  qiime_overview_tutorial.zip\r\n"
     ]
    }
   ],
   "source": [
    "ls"
   ]
  },
  {
   "cell_type": "markdown",
   "metadata": {},
   "source": [
    "## Note: .tsv files are tab separated value files"
   ]
  },
  {
   "cell_type": "code",
   "execution_count": 5,
   "metadata": {},
   "outputs": [
    {
     "name": "stdout",
     "output_type": "stream",
     "text": [
      "#SampleID\tBarcodeSequence\tLinkerPrimerSequence\tBodySite\tYear\tMonth\tDay\tSubject\tReportedAntibioticUsage\tDaysSinceExperimentStart\tDescription\r",
      "\r\n",
      "L1S8\tAGCTGACTAGTC\tGTGCCAGCMGCCGCGGTAA\tgut\t2008\t10\t28\tsubject-1\tYes\t0\tsubject-1.gut.2008-10-28\r",
      "\r\n",
      "L1S57\tACACACTATGGC\tGTGCCAGCMGCCGCGGTAA\tgut\t2009\t1\t20\tsubject-1\tNo\t84\tsubject-1.gut.2009-1-20\r",
      "\r\n",
      "L1S76\tACTACGTGTGGT\tGTGCCAGCMGCCGCGGTAA\tgut\t2009\t2\t17\tsubject-1\tNo\t112\tsubject-1.gut.2009-2-17\r",
      "\r\n",
      "L1S105\tAGTGCGATGCGT\tGTGCCAGCMGCCGCGGTAA\tgut\t2009\t3\t17\tsubject-1\tNo\t140\tsubject-1.gut.2009-3-17\r",
      "\r\n",
      "L2S155\tACGATGCGACCA\tGTGCCAGCMGCCGCGGTAA\tleft palm\t2009\t1\t20\tsubject-1\tNo\t84\tsubject-1.left-palm.2009-1-20\r",
      "\r\n",
      "L2S175\tAGCTATCCACGA\tGTGCCAGCMGCCGCGGTAA\tleft palm\t2009\t2\t17\tsubject-1\tNo\t112\tsubject-1.left-palm.2009-2-17\r",
      "\r\n",
      "L2S204\tATGCAGCTCAGT\tGTGCCAGCMGCCGCGGTAA\tleft palm\t2009\t3\t17\tsubject-1\tNo\t140\tsubject-1.left-palm.2009-3-17\r",
      "\r\n",
      "L2S222\tCACGTGACATGT\tGTGCCAGCMGCCGCGGTAA\tleft palm\t2009\t4\t14\tsubject-1\tNo\t168\tsubject-1.left-palm.2009-4-14\r",
      "\r\n",
      "L3S242\tACAGTTGCGCGA\tGTGCCAGCMGCCGCGGTAA\tright palm\t2008\t10\t28\tsubject-1\tYes\t0\tsubject-1.right-palm.2008-10-28\r",
      "\r\n",
      "L3S294\tCACGACAGGCTA\tGTGCCAGCMGCCGCGGTAA\tright palm\t2009\t1\t20\tsubject-1\tNo\t84\tsubject-1.right-palm.2009-1-20\r",
      "\r\n",
      "L3S313\tAGTGTCACGGTG\tGTGCCAGCMGCCGCGGTAA\tright palm\t2009\t2\t17\tsubject-1\tNo\t112\tsubject-1.right-palm.2009-2-17\r",
      "\r\n",
      "L3S341\tCAAGTGAGAGAG\tGTGCCAGCMGCCGCGGTAA\tright palm\t2009\t3\t17\tsubject-1\tNo\t140\tsubject-1.right-palm.2009-3-17\r",
      "\r\n",
      "L3S360\tCATCGTATCAAC\tGTGCCAGCMGCCGCGGTAA\tright palm\t2009\t4\t14\tsubject-1\tNo\t168\tsubject-1.right-palm.2009-4-14\r",
      "\r\n",
      "L5S104\tCAGTGTCAGGAC\tGTGCCAGCMGCCGCGGTAA\ttongue\t2008\t10\t28\tsubject-1\tYes\t0\tsubject-1.tongue.2008-10-28\r",
      "\r\n",
      "L5S155\tATCTTAGACTGC\tGTGCCAGCMGCCGCGGTAA\ttongue\t2009\t1\t20\tsubject-1\tNo\t84\tsubject-1.tongue.2009-1-20\r",
      "\r\n",
      "L5S174\tCAGACATTGCGT\tGTGCCAGCMGCCGCGGTAA\ttongue\t2009\t2\t17\tsubject-1\tNo\t112\tsubject-1.tongue.2009-2-17\r",
      "\r\n",
      "L5S203\tCGATGCACCAGA\tGTGCCAGCMGCCGCGGTAA\ttongue\t2009\t3\t17\tsubject-1\tNo\t140\tsubject-1.tongue.2009-3-17\r",
      "\r\n",
      "L5S222\tCTAGAGACTCTT\tGTGCCAGCMGCCGCGGTAA\ttongue\t2009\t4\t14\tsubject-1\tNo\t168\tsubject-1.tongue.2009-4-14\r",
      "\r\n",
      "L1S140\tATGGCAGCTCTA\tGTGCCAGCMGCCGCGGTAA\tgut\t2008\t10\t28\tsubject-2\tYes\t0\tsubject-2.gut.2008-10-28\r",
      "\r\n",
      "L1S208\tCTGAGATACGCG\tGTGCCAGCMGCCGCGGTAA\tgut\t2009\t1\t20\tsubject-2\tNo\t84\tsubject-2.gut.2009-1-20\r",
      "\r\n",
      "L1S257\tCCGACTGAGATG\tGTGCCAGCMGCCGCGGTAA\tgut\t2009\t3\t17\tsubject-2\tNo\t140\tsubject-2.gut.2009-3-17\r",
      "\r\n",
      "L1S281\tCCTCTCGTGATC\tGTGCCAGCMGCCGCGGTAA\tgut\t2009\t4\t14\tsubject-2\tNo\t168\tsubject-2.gut.2009-4-14\r",
      "\r\n",
      "L2S240\tCATATCGCAGTT\tGTGCCAGCMGCCGCGGTAA\tleft palm\t2008\t10\t28\tsubject-2\tYes\t0\tsubject-2.left-palm.2008-10-28\r",
      "\r\n",
      "L2S309\tCGTGCATTATCA\tGTGCCAGCMGCCGCGGTAA\tleft palm\t2009\t1\t20\tsubject-2\tNo\t84\tsubject-2.left-palm.2009-1-20\r",
      "\r\n",
      "L2S357\tCTAACGCAGTCA\tGTGCCAGCMGCCGCGGTAA\tleft palm\t2009\t3\t17\tsubject-2\tNo\t140\tsubject-2.left-palm.2009-3-17\r",
      "\r\n",
      "L2S382\tCTCAATGACTCA\tGTGCCAGCMGCCGCGGTAA\tleft palm\t2009\t4\t14\tsubject-2\tNo\t168\tsubject-2.left-palm.2009-4-14\r",
      "\r\n",
      "L3S378\tATCGATCTGTGG\tGTGCCAGCMGCCGCGGTAA\tright palm\t2008\t10\t28\tsubject-2\tYes\t0\tsubject-2.right-palm.2008-10-28\r",
      "\r\n",
      "L4S63\tCTCGTGGAGTAG\tGTGCCAGCMGCCGCGGTAA\tright palm\t2009\t1\t20\tsubject-2\tNo\t84\tsubject-2.right-palm.2009-1-20\r",
      "\r\n",
      "L4S112\tGCGTTACACACA\tGTGCCAGCMGCCGCGGTAA\tright palm\t2009\t3\t17\tsubject-2\tNo\t140\tsubject-2.right-palm.2009-3-17\r",
      "\r\n",
      "L4S137\tGAACTGTATCTC\tGTGCCAGCMGCCGCGGTAA\tright palm\t2009\t4\t14\tsubject-2\tNo\t168\tsubject-2.right-palm.2009-4-14\r",
      "\r\n",
      "L5S240\tCTGGACTCATAG\tGTGCCAGCMGCCGCGGTAA\ttongue\t2008\t10\t28\tsubject-2\tYes\t0\tsubject-2.tongue.2008-10-28\r",
      "\r\n",
      "L6S20\tGAGGCTCATCAT\tGTGCCAGCMGCCGCGGTAA\ttongue\t2009\t1\t20\tsubject-2\tNo\t84\tsubject-2.tongue.2009-1-20\r",
      "\r\n",
      "L6S68\tGATACGTCCTGA\tGTGCCAGCMGCCGCGGTAA\ttongue\t2009\t3\t17\tsubject-2\tNo\t140\tsubject-2.tongue.2009-3-17\r",
      "\r\n",
      "L6S93\tGATTAGCACTCT\tGTGCCAGCMGCCGCGGTAA\ttongue\t2009\t4\t14\tsubject-2\tNo\t168\tsubject-2.tongue.2009-4-14"
     ]
    }
   ],
   "source": [
    "cat sample-metadata.tsv"
   ]
  },
  {
   "cell_type": "code",
   "execution_count": 7,
   "metadata": {
    "collapsed": true
   },
   "outputs": [],
   "source": [
    "!mkdir emp-single-end-sequences"
   ]
  },
  {
   "cell_type": "code",
   "execution_count": 8,
   "metadata": {
    "collapsed": true
   },
   "outputs": [],
   "source": [
    "!curl -sL \"https://data.qiime2.org/2017.8/tutorials/moving-pictures/emp-single-end-sequences/barcodes.fastq.gz\" > \"emp-single-end-sequences/barcodes.fastq.gz\""
   ]
  },
  {
   "cell_type": "code",
   "execution_count": 9,
   "metadata": {
    "collapsed": true
   },
   "outputs": [],
   "source": [
    "!curl -sL \"https://data.qiime2.org/2017.8/tutorials/moving-pictures/emp-single-end-sequences/sequences.fastq.gz\" > \"emp-single-end-sequences/sequences.fastq.gz\""
   ]
  },
  {
   "cell_type": "markdown",
   "metadata": {},
   "source": [
    "# Step 2: Importing data using qiime tools"
   ]
  },
  {
   "cell_type": "code",
   "execution_count": 10,
   "metadata": {
    "collapsed": true
   },
   "outputs": [],
   "source": [
    "!qiime tools import \\\n",
    "  --type EMPSingleEndSequences \\\n",
    "  --input-path emp-single-end-sequences \\\n",
    "  --output-path emp-single-end-sequences.qza"
   ]
  },
  {
   "cell_type": "markdown",
   "metadata": {},
   "source": [
    "output can be found [here](https://view.qiime2.org/?src=https%3A%2F%2Fdocs.qiime2.org%2F2017.8%2Fdata%2Ftutorials%2Fmoving-pictures%2Femp-single-end-sequences.qza)"
   ]
  },
  {
   "cell_type": "code",
   "execution_count": 13,
   "metadata": {},
   "outputs": [
    {
     "name": "stdout",
     "output_type": "stream",
     "text": [
      "\u001b[0m\u001b[01;34memp-single-end-sequences\u001b[0m/     oldqiime.ipynb               sample-metadata.tsv\r\n",
      "emp-single-end-sequences.qza  \u001b[01;34mqiime_overview_tutorial\u001b[0m/\r\n",
      "newqiime.ipynb                qiime_overview_tutorial.zip\r\n"
     ]
    }
   ],
   "source": [
    "ls"
   ]
  },
  {
   "cell_type": "markdown",
   "metadata": {},
   "source": [
    "## Note: a .qza file is a qiima artifact file"
   ]
  },
  {
   "cell_type": "markdown",
   "metadata": {},
   "source": [
    "# Step 3: Demultiplexing sequences \n",
    "\n",
    "Pooling multiple samples increases the efficiency and lowers the cost of DNA sequencing. One approach to multiplexing is to use short DNA indices to uniquely identify each sample. After sequencing, reads must be assigned in silico to the sample of origin, a process referred to as demultiplexing."
   ]
  },
  {
   "cell_type": "code",
   "execution_count": 14,
   "metadata": {},
   "outputs": [
    {
     "name": "stdout",
     "output_type": "stream",
     "text": [
      "\u001b[32mSaved SampleData[SequencesWithQuality] to: demux.qza\u001b[0m\r\n"
     ]
    }
   ],
   "source": [
    "!qiime demux emp-single \\\n",
    "  --i-seqs emp-single-end-sequences.qza \\\n",
    "  --m-barcodes-file sample-metadata.tsv \\\n",
    "  --m-barcodes-category BarcodeSequence \\\n",
    "  --o-per-sample-sequences demux.qza"
   ]
  },
  {
   "cell_type": "code",
   "execution_count": 16,
   "metadata": {},
   "outputs": [
    {
     "name": "stdout",
     "output_type": "stream",
     "text": [
      "\u001b[32mSaved Visualization to: demux.qzv\u001b[0m\r\n"
     ]
    }
   ],
   "source": [
    "!qiime demux summarize \\\n",
    "  --i-data demux.qza \\\n",
    "  --o-visualization demux.qzv"
   ]
  },
  {
   "cell_type": "markdown",
   "metadata": {},
   "source": [
    "[artifact](https://view.qiime2.org/?src=https%3A%2F%2Fdocs.qiime2.org%2F2017.8%2Fdata%2Ftutorials%2Fmoving-pictures%2Fdemux.qza)\n",
    "[visualization](https://view.qiime2.org/visualization/?type=html&src=https%3A%2F%2Fdocs.qiime2.org%2F2017.8%2Fdata%2Ftutorials%2Fmoving-pictures%2Fdemux.qzv)"
   ]
  },
  {
   "cell_type": "markdown",
   "metadata": {},
   "source": [
    "## Note: a qzv file is a qiima visualization file and unfortunately cannot be run over a jupyter server at this time"
   ]
  },
  {
   "cell_type": "code",
   "execution_count": 17,
   "metadata": {},
   "outputs": [
    {
     "name": "stdout",
     "output_type": "stream",
     "text": [
      "Usage: qiime tools view [OPTIONS] VISUALIZATION_PATH\r\n",
      "\r\n",
      "Error: Visualization viewing is currently not supported in headless environments. You can view Visualizations (and Artifacts) at https://view.qiime2.org, or move the Visualization to an environment with a display and view it with `qiime tools view`.\r\n"
     ]
    }
   ],
   "source": [
    "!qiime tools view demux.qzv"
   ]
  },
  {
   "cell_type": "markdown",
   "metadata": {},
   "source": [
    "# Step 4: Feature table construction and quality control"
   ]
  },
  {
   "cell_type": "markdown",
   "metadata": {},
   "source": [
    "DADA2 is a pipeline for detecting and correcting (where possible) Illumina amplicon sequence data."
   ]
  },
  {
   "cell_type": "code",
   "execution_count": 18,
   "metadata": {},
   "outputs": [
    {
     "name": "stdout",
     "output_type": "stream",
     "text": [
      "\u001b[32mSaved FeatureTable[Frequency] to: table-dada2.qza\u001b[0m\n",
      "\u001b[32mSaved FeatureData[Sequence] to: rep-seqs-dada2.qza\u001b[0m\n"
     ]
    }
   ],
   "source": [
    "!qiime dada2 denoise-single \\\n",
    "  --i-demultiplexed-seqs demux.qza \\\n",
    "  --p-trim-left 0 \\\n",
    "  --p-trunc-len 120 \\\n",
    "  --o-representative-sequences rep-seqs-dada2.qza \\\n",
    "  --o-table table-dada2.qza"
   ]
  },
  {
   "cell_type": "code",
   "execution_count": 20,
   "metadata": {},
   "outputs": [],
   "source": [
    "!mv rep-seqs-dada2.qza rep-seqs.qza\n",
    "!mv table-dada2.qza table.qza"
   ]
  },
  {
   "cell_type": "markdown",
   "metadata": {},
   "source": [
    "[rep-seqs](https://view.qiime2.org/peek/?src=https%3A%2F%2Fdocs.qiime2.org%2F2017.8%2Fdata%2Ftutorials%2Fmoving-pictures%2Frep-seqs.qza)\n",
    "[table](https://view.qiime2.org/peek/?src=https%3A%2F%2Fdocs.qiime2.org%2F2017.8%2Fdata%2Ftutorials%2Fmoving-pictures%2Ftable.qza)"
   ]
  },
  {
   "cell_type": "code",
   "execution_count": 21,
   "metadata": {},
   "outputs": [
    {
     "name": "stdout",
     "output_type": "stream",
     "text": [
      "\u001b[32mSaved Visualization to: table.qzv\u001b[0m\n",
      "\u001b[32mSaved Visualization to: rep-seqs.qzv\u001b[0m\n"
     ]
    }
   ],
   "source": [
    "!qiime feature-table summarize \\\n",
    "  --i-table table.qza \\\n",
    "  --o-visualization table.qzv \\\n",
    "  --m-sample-metadata-file sample-metadata.tsv\n",
    "!qiime feature-table tabulate-seqs \\\n",
    "  --i-data rep-seqs.qza \\\n",
    "  --o-visualization rep-seqs.qzv"
   ]
  },
  {
   "cell_type": "markdown",
   "metadata": {},
   "source": [
    "[rep-seqs](https://view.qiime2.org/visualization/?type=html&src=https%3A%2F%2Fdocs.qiime2.org%2F2017.8%2Fdata%2Ftutorials%2Fmoving-pictures%2Frep-seqs.qzv)\n",
    "[table](https://view.qiime2.org/visualization/?type=html&src=https%3A%2F%2Fdocs.qiime2.org%2F2017.8%2Fdata%2Ftutorials%2Fmoving-pictures%2Ftable.qzv)"
   ]
  },
  {
   "cell_type": "markdown",
   "metadata": {},
   "source": [
    "# Step 5: Generate phylogenetic tree for diversity analysis"
   ]
  },
  {
   "cell_type": "code",
   "execution_count": 23,
   "metadata": {},
   "outputs": [
    {
     "name": "stdout",
     "output_type": "stream",
     "text": [
      "\u001b[32mSaved FeatureData[AlignedSequence] to: aligned-rep-seqs.qza\u001b[0m\r\n"
     ]
    }
   ],
   "source": [
    "# multi-sequence alignment\n",
    "!qiime alignment mafft \\\n",
    "  --i-sequences rep-seqs.qza \\\n",
    "  --o-alignment aligned-rep-seqs.qza"
   ]
  },
  {
   "cell_type": "markdown",
   "metadata": {},
   "source": [
    "[result here](https://view.qiime2.org/peek/?src=https%3A%2F%2Fdocs.qiime2.org%2F2017.8%2Fdata%2Ftutorials%2Fmoving-pictures%2Faligned-rep-seqs.qza)"
   ]
  },
  {
   "cell_type": "code",
   "execution_count": 25,
   "metadata": {},
   "outputs": [
    {
     "name": "stdout",
     "output_type": "stream",
     "text": [
      "\u001b[32mSaved FeatureData[AlignedSequence] to: masked-aligned-rep-seqs.qza\u001b[0m\r\n"
     ]
    }
   ],
   "source": [
    "# mask to remove highly variable alignment results\n",
    "!qiime alignment mask \\\n",
    "  --i-alignment aligned-rep-seqs.qza \\\n",
    "  --o-masked-alignment masked-aligned-rep-seqs.qza"
   ]
  },
  {
   "cell_type": "markdown",
   "metadata": {},
   "source": [
    "[masked result here](https://view.qiime2.org/peek/?src=https%3A%2F%2Fdocs.qiime2.org%2F2017.8%2Fdata%2Ftutorials%2Fmoving-pictures%2Fmasked-aligned-rep-seqs.qza)"
   ]
  },
  {
   "cell_type": "code",
   "execution_count": 27,
   "metadata": {},
   "outputs": [
    {
     "name": "stdout",
     "output_type": "stream",
     "text": [
      "\u001b[32mSaved Phylogeny[Unrooted] to: unrooted-tree.qza\u001b[0m\r\n"
     ]
    }
   ],
   "source": [
    "# FastTree to quickly construct an unrooted phylogenetic tree (evolutionary diversification, etc.)\n",
    "!qiime phylogeny fasttree \\\n",
    "  --i-alignment masked-aligned-rep-seqs.qza \\\n",
    "  --o-tree unrooted-tree.qza"
   ]
  },
  {
   "cell_type": "markdown",
   "metadata": {},
   "source": [
    "[unrooted tree](https://view.qiime2.org/peek/?src=https%3A%2F%2Fdocs.qiime2.org%2F2017.8%2Fdata%2Ftutorials%2Fmoving-pictures%2Funrooted-tree.qza)"
   ]
  },
  {
   "cell_type": "code",
   "execution_count": 28,
   "metadata": {},
   "outputs": [
    {
     "name": "stdout",
     "output_type": "stream",
     "text": [
      "\u001b[32mSaved Phylogeny[Rooted] to: rooted-tree.qza\u001b[0m\r\n"
     ]
    }
   ],
   "source": [
    "# Root the previously constructed tree at the midpoint of the longest tip-to-tip distance in the unrooted tree\n",
    "!qiime phylogeny midpoint-root \\\n",
    "  --i-tree unrooted-tree.qza \\\n",
    "  --o-rooted-tree rooted-tree.qza"
   ]
  },
  {
   "cell_type": "markdown",
   "metadata": {},
   "source": [
    "[rooted tree](https://view.qiime2.org/peek/?src=https%3A%2F%2Fdocs.qiime2.org%2F2017.8%2Fdata%2Ftutorials%2Fmoving-pictures%2Frooted-tree.qza)"
   ]
  },
  {
   "cell_type": "markdown",
   "metadata": {},
   "source": [
    "# Notes about Qiime2 vs Qiime1:\n",
    "\n",
    "Qiime2 is a lot crisper in terms of a single unifying program suite - it's very satisfying not needing to run each individual python script anymore. In addition the visualization software is very nice as well. One thing that I do miss is the flexibility of Qiime1 - you could modify the visualization output script directly to use over headless display for example. The actual pipeline itself is relatively similar due to Qiime2 seeming to be use most of the same scripts as Qiime1."
   ]
  }
 ],
 "metadata": {
  "kernelspec": {
   "display_name": "Python 3",
   "language": "python",
   "name": "python3"
  },
  "language_info": {
   "codemirror_mode": {
    "name": "ipython",
    "version": 3
   },
   "file_extension": ".py",
   "mimetype": "text/x-python",
   "name": "python",
   "nbconvert_exporter": "python",
   "pygments_lexer": "ipython3",
   "version": "3.5.4"
  }
 },
 "nbformat": 4,
 "nbformat_minor": 2
}
